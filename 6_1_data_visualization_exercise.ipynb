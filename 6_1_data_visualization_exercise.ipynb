{
  "nbformat": 4,
  "nbformat_minor": 0,
  "metadata": {
    "colab": {
      "name": "6.1_data-visualization_exercise.ipynb",
      "provenance": [],
      "collapsed_sections": [],
      "include_colab_link": true
    },
    "kernelspec": {
      "name": "python3",
      "display_name": "Python 3"
    }
  },
  "cells": [
    {
      "cell_type": "markdown",
      "metadata": {
        "id": "view-in-github",
        "colab_type": "text"
      },
      "source": [
        "<a href=\"https://colab.research.google.com/github/suzistein19/atom/blob/master/6_1_data_visualization_exercise.ipynb\" target=\"_parent\"><img src=\"https://colab.research.google.com/assets/colab-badge.svg\" alt=\"Open In Colab\"/></a>"
      ]
    },
    {
      "cell_type": "markdown",
      "metadata": {
        "id": "DImkhpU42aHq",
        "colab_type": "text"
      },
      "source": [
        "## Import `pyplot` from `matplotlib` as `plt`."
      ]
    },
    {
      "cell_type": "code",
      "metadata": {
        "id": "xwsZkxhi2aHw",
        "colab_type": "code",
        "colab": {}
      },
      "source": [
        "import matplotlib.pyplot as plt"
      ],
      "execution_count": 0,
      "outputs": []
    },
    {
      "cell_type": "markdown",
      "metadata": {
        "id": "f6mpXZkL2aIE",
        "colab_type": "text"
      },
      "source": [
        "## Add `matplotlib` magic for inline plots.\n",
        "\n",
        "\n",
        "\n"
      ]
    },
    {
      "cell_type": "code",
      "metadata": {
        "id": "urkVvJAh2aIH",
        "colab_type": "code",
        "colab": {}
      },
      "source": [
        "%matplotlib inline"
      ],
      "execution_count": 0,
      "outputs": []
    },
    {
      "cell_type": "markdown",
      "metadata": {
        "id": "2YxANGGn2aIN",
        "colab_type": "text"
      },
      "source": [
        "## Create an empty plot using `.plot()` method from the `matplotlib.pyplot module`."
      ]
    },
    {
      "cell_type": "code",
      "metadata": {
        "id": "yKhsK1a92aIP",
        "colab_type": "code",
        "outputId": "ed6264b3-ac3e-4d22-b648-0ed29645a1e1",
        "colab": {
          "base_uri": "https://localhost:8080/",
          "height": 282
        }
      },
      "source": [
        "plt.plot()"
      ],
      "execution_count": 0,
      "outputs": [
        {
          "output_type": "execute_result",
          "data": {
            "text/plain": [
              "[]"
            ]
          },
          "metadata": {
            "tags": []
          },
          "execution_count": 4
        },
        {
          "output_type": "display_data",
          "data": {
            "image/png": "[encoded data removed]",
            "text/plain": [
              "<matplotlib.figure.Figure at 0x7f325f51a390>"
            ]
          },
          "metadata": {
            "tags": []
          }
        }
      ]
    },
    {
      "cell_type": "markdown",
      "metadata": {
        "id": "6aCcA1Xb2aIS",
        "colab_type": "text"
      },
      "source": [
        "## Create a simple line with the points [1,1] and [2,2] using `plt.plot()`."
      ]
    },
    {
      "cell_type": "code",
      "metadata": {
        "id": "nzUGzDiD2aIT",
        "colab_type": "code",
        "outputId": "1b4766ca-63b6-4692-a9f5-188be2833bd5",
        "colab": {
          "base_uri": "https://localhost:8080/",
          "height": 282
        }
      },
      "source": [
        "plt.plot([1,2],[1,2])"
      ],
      "execution_count": 0,
      "outputs": [
        {
          "output_type": "execute_result",
          "data": {
            "text/plain": [
              "[<matplotlib.lines.Line2D at 0x7f325cbdb7b8>]"
            ]
          },
          "metadata": {
            "tags": []
          },
          "execution_count": 5
        },
        {
          "output_type": "display_data",
          "data": {
            "image/png": "[encoded data removed]",
            "text/plain": [
              "<matplotlib.figure.Figure at 0x7f325f4a0710>"
            ]
          },
          "metadata": {
            "tags": []
          }
        }
      ]
    },
    {
      "cell_type": "markdown",
      "metadata": {
        "id": "1nvs-FVE2aIW",
        "colab_type": "text"
      },
      "source": [
        "## Now make it a scatterplot with the same points, [1,1] and [2,2], but use `plt.scatter()` instead."
      ]
    },
    {
      "cell_type": "code",
      "metadata": {
        "id": "P9ErO9ub2aIX",
        "colab_type": "code",
        "colab": {}
      },
      "source": [
        ""
      ],
      "execution_count": 0,
      "outputs": []
    },
    {
      "cell_type": "markdown",
      "metadata": {
        "collapsed": true,
        "id": "Baljlzit2aIZ",
        "colab_type": "text"
      },
      "source": [
        "## Add a `ylabel` to it called `\"some numbers\"`."
      ]
    },
    {
      "cell_type": "code",
      "metadata": {
        "id": "fFqkbh4l2aIa",
        "colab_type": "code",
        "colab": {}
      },
      "source": [
        ""
      ],
      "execution_count": 0,
      "outputs": []
    },
    {
      "cell_type": "markdown",
      "metadata": {
        "id": "vML3YKde2aId",
        "colab_type": "text"
      },
      "source": [
        "## Import `seaborn` as `sns`\n",
        "\n",
        "If this fails, open up a terminal, type `conda install seaborn`, and restart the Jupyter Notebook server."
      ]
    },
    {
      "cell_type": "code",
      "metadata": {
        "id": "nptAz_uO2aIe",
        "colab_type": "code",
        "colab": {}
      },
      "source": [
        ""
      ],
      "execution_count": 0,
      "outputs": []
    },
    {
      "cell_type": "markdown",
      "metadata": {
        "id": "L5iIobty2aIh",
        "colab_type": "text"
      },
      "source": [
        "## Set `seaborn` to \"on\" to style your plots"
      ]
    },
    {
      "cell_type": "markdown",
      "metadata": {
        "id": "PzFofM0Y2aIj",
        "colab_type": "text"
      },
      "source": [
        "Use the command `sns.set()`."
      ]
    },
    {
      "cell_type": "code",
      "metadata": {
        "id": "4ZvKjhng2aIk",
        "colab_type": "code",
        "colab": {}
      },
      "source": [
        ""
      ],
      "execution_count": 0,
      "outputs": []
    },
    {
      "cell_type": "markdown",
      "metadata": {
        "id": "BEEnGXDP2aIn",
        "colab_type": "text"
      },
      "source": [
        "## Create an empty plot using `plt.plot()`."
      ]
    },
    {
      "cell_type": "code",
      "metadata": {
        "id": "bd1FyAtf2aIo",
        "colab_type": "code",
        "colab": {}
      },
      "source": [
        ""
      ],
      "execution_count": 0,
      "outputs": []
    },
    {
      "cell_type": "markdown",
      "metadata": {
        "id": "Gc6WVADp2aIs",
        "colab_type": "text"
      },
      "source": [
        "## Create a simple line with the points [1,1] and [2,2] using `plt.plot()`."
      ]
    },
    {
      "cell_type": "code",
      "metadata": {
        "id": "onC-lWa42aIt",
        "colab_type": "code",
        "colab": {}
      },
      "source": [
        ""
      ],
      "execution_count": 0,
      "outputs": []
    },
    {
      "cell_type": "markdown",
      "metadata": {
        "id": "6mTTVIxf2aIw",
        "colab_type": "text"
      },
      "source": [
        "## Now make it a scatterplot with the same points, [1,1] and [2,2], but use `plt.scatter()` instead.\n",
        "Add a `ylabel` to it called `\"some numbers\"`."
      ]
    },
    {
      "cell_type": "code",
      "metadata": {
        "id": "rBj36fiN2aIw",
        "colab_type": "code",
        "colab": {}
      },
      "source": [
        ""
      ],
      "execution_count": 0,
      "outputs": []
    }
  ]
}